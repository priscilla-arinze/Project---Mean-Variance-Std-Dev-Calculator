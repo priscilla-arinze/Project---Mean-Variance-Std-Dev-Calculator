{
 "cells": [
  {
   "cell_type": "markdown",
   "id": "343b58a5",
   "metadata": {},
   "source": [
    "# Mean-Variance-Standard Deviation Calculator\n",
    "\n",
    "Create a function named `calculate()` that uses Numpy to output the mean, variance, standard deviation, max, min, and sum of the rows, columns, and elements in a 3 x 3 matrix.\n",
    "\n",
    "The input of the function should be a list containing 9 digits. The function should convert the list into a 3 x 3 Numpy array, and then return a dictionary containing the mean, variance, standard deviation, max, min, and sum along both axes and for the flattened matrix.\n",
    "\n",
    "The returned dictionary should follow this format:\n",
    "\n",
    "`{\n",
    "  'mean': [axis1, axis2, flattened],\n",
    "  'variance': [axis1, axis2, flattened],\n",
    "  'standard deviation': [axis1, axis2, flattened],\n",
    "  'max': [axis1, axis2, flattened],\n",
    "  'min': [axis1, axis2, flattened],\n",
    "  'sum': [axis1, axis2, flattened]\n",
    "}`\n"
   ]
  },
  {
   "cell_type": "code",
   "execution_count": 1,
   "id": "a00a4023",
   "metadata": {},
   "outputs": [],
   "source": [
    "import numpy as np"
   ]
  },
  {
   "cell_type": "code",
   "execution_count": 37,
   "id": "9bf46bf5",
   "metadata": {},
   "outputs": [],
   "source": [
    "def calculate(list):\n",
    "    \n",
    "    #Error Handling (invalid list length)\n",
    "    if len(list) < 9:\n",
    "        print(\"List must contain nine numbers.\")\n",
    "        raise ValueError(\"List must contain nine numbers.\")\n",
    "    #else:\n",
    "        #return 0\n",
    "    \n",
    "    listnp = np.array(list)\n",
    "    listnp3 = listnp.reshape((3,3))\n",
    "    \n",
    "    #Mean\n",
    "    meanCol = listnp3.mean(axis=0)\n",
    "    meanRow = listnp3.mean(axis=1)\n",
    "    meanAll = listnp3.mean()\n",
    "    meanVal = [meanCol.tolist(), meanRow.tolist(), meanAll]\n",
    "    \n",
    "    #Variance\n",
    "    varCol = listnp3.var(axis=0)\n",
    "    varRow = listnp3.var(axis=1)\n",
    "    varAll = listnp3.var()\n",
    "    varVal = [varCol.tolist(), varRow.tolist(), varAll]\n",
    "    \n",
    "    #Standard Deviation\n",
    "    stdCol = listnp3.std(axis=0)\n",
    "    stdRow = listnp3.std(axis=1)\n",
    "    stdAll = listnp3.std()\n",
    "    stdVal = [stdCol.tolist(), stdRow.tolist(), stdAll]\n",
    "    \n",
    "    #Max\n",
    "    maxCol = listnp3.max(axis=0)\n",
    "    maxRow = listnp3.max(axis=1)\n",
    "    maxAll = listnp3.max()\n",
    "    maxVal = [maxCol.tolist(), maxRow.tolist(), maxAll]\n",
    "    \n",
    "    #Min\n",
    "    minCol = listnp3.min(axis=0)\n",
    "    minRow = listnp3.min(axis=1)\n",
    "    minAll = listnp3.min()\n",
    "    minVal = [minCol.tolist(), minRow.tolist(), minAll]\n",
    "    \n",
    "    #Sum\n",
    "    sumCol = listnp3.sum(axis=0)\n",
    "    sumRow = listnp3.sum(axis=1)\n",
    "    sumAll = listnp3.sum()\n",
    "    sumVal = [sumCol.tolist(), sumRow.tolist(), sumAll]\n",
    "    \n",
    "    \n",
    "    #Final Dictionary Output\n",
    "    calculations = {\n",
    "        'mean': meanVal,\n",
    "        'variance': varVal,\n",
    "        'standard deviation': stdVal,\n",
    "        'max': maxVal,\n",
    "        'min': minVal,\n",
    "        'sum': sumVal\n",
    "    }\n",
    "\n",
    "    return calculations"
   ]
  },
  {
   "cell_type": "code",
   "execution_count": 38,
   "id": "34c5585b",
   "metadata": {},
   "outputs": [
    {
     "name": "stdout",
     "output_type": "stream",
     "text": [
      "{'mean': [[3.0, 4.0, 5.0], [1.0, 4.0, 7.0], 4.0], 'variance': [[6.0, 6.0, 6.0], [0.6666666666666666, 0.6666666666666666, 0.6666666666666666], 6.666666666666667], 'standard deviation': [[2.449489742783178, 2.449489742783178, 2.449489742783178], [0.816496580927726, 0.816496580927726, 0.816496580927726], 2.581988897471611], 'max': [[6, 7, 8], [2, 5, 8], 8], 'min': [[0, 1, 2], [0, 3, 6], 0], 'sum': [[9, 12, 15], [3, 12, 21], 36]}\n"
     ]
    }
   ],
   "source": [
    "print(calculate([0,1,2,3,4,5,6,7,8]))\n",
    "#print(calculate([2,6,2,8,4,0,1,5,7]))"
   ]
  }
 ],
 "metadata": {
  "kernelspec": {
   "display_name": "Python 3 (ipykernel)",
   "language": "python",
   "name": "python3"
  },
  "language_info": {
   "codemirror_mode": {
    "name": "ipython",
    "version": 3
   },
   "file_extension": ".py",
   "mimetype": "text/x-python",
   "name": "python",
   "nbconvert_exporter": "python",
   "pygments_lexer": "ipython3",
   "version": "3.9.7"
  }
 },
 "nbformat": 4,
 "nbformat_minor": 5
}
